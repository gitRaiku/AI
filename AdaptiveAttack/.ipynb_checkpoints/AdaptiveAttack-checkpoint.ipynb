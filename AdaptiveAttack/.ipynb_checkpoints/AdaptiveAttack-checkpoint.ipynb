{
 "cells": [
  {
   "cell_type": "code",
   "execution_count": 1,
   "id": "d4e31ca0-fc77-4a14-826d-1fc5ccc327bb",
   "metadata": {},
   "outputs": [],
   "source": [
    "import numpy as np\n",
    "import matplotlib.pyplot as plt\n",
    "\n",
    "def unpickle(file):\n",
    "    import pickle\n",
    "    with open(file, 'rb') as fo:\n",
    "        dict = pickle.load(fo, encoding='bytes')\n",
    "    return dict\n",
    "\n",
    "dp = '/home/raiku/.datasets/cifar-10/data_batch_'\n",
    "train = [unpickle(f'{dp}1'), unpickle(f'{dp}2'), unpickle(f'{dp}3'), unpickle(f'{dp}4'), unpickle(f'{dp}5')]\n",
    "train_img = np.array([i[b'data'] for i in train]).reshape([-1, 3, 32, 32])\n",
    "train_labels = np.array([i[b'labels'] for i in train]).reshape([-1])\n",
    "test = unpickle('/home/raiku/.datasets/cifar-10/test_batch')\n",
    "meta = unpickle('/home/raiku/.datasets/cifar-10/batches.meta')\n",
    "label_names = meta[b'label_names']\n",
    "test_img = np.array(test[b'data']).reshape([-1, 3, 32, 32])\n",
    "test_labels = np.array(test[b'labels'])"
   ]
  },
  {
   "cell_type": "code",
   "execution_count": 2,
   "id": "f6f65c5d-f171-432d-8293-607844c4b7c5",
   "metadata": {},
   "outputs": [],
   "source": [
    "import os\n",
    "import pandas as pd\n",
    "import matplotlib.pyplot as plt\n",
    "import numpy as np\n",
    "\n",
    "from sklearn.utils.class_weight import compute_class_weight\n",
    "\n",
    "import torch\n",
    "import torch.nn as nn\n",
    "import torch.optim as optim\n",
    "import torch.nn.functional as F\n",
    "from torch.utils.data import Dataset\n",
    "from torch.utils.data import DataLoader\n",
    "\n",
    "import torchvision as tv\n",
    "from torchvision.transforms import ToTensor\n",
    "from torchvision.transforms.functional import adjust_contrast\n",
    "import torchvision.transforms.v2 as T\n",
    "from torchvision.io import read_image, ImageReadMode\n",
    "%matplotlib inline\n",
    "\n",
    "device = 'cuda'\n",
    "cudagen = torch.Generator(device=device)\n",
    "torch.set_default_device(device)\n",
    "pcount = 8"
   ]
  },
  {
   "cell_type": "code",
   "execution_count": 3,
   "id": "d303d12c-ba31-431e-a5a9-2b030b2d9b18",
   "metadata": {},
   "outputs": [],
   "source": [
    "class ImgDataset(Dataset):\n",
    "    def __init__(self, images, labels, transform=None, augment=None, target_transform=None):\n",
    "        self.images = images\n",
    "        self.labels = labels\n",
    "        self.transform = transform\n",
    "        self.augment = augment\n",
    "        self.target_transform = target_transform\n",
    "        \n",
    "    def __len__(self):\n",
    "        return len(self.labels)\n",
    "        \n",
    "    def patch(self, image):\n",
    "        cimg = []\n",
    "        ch = len(img) // pcount\n",
    "        cw = len(img[0]) // pcount\n",
    "        for i in range(pcount):\n",
    "            for j in range(pcount):\n",
    "                cimg += [img[i * ch : (i + 1) * ch, j * cw : (j + 1) * cw].reshape([-1, 3])]\n",
    "        return np.array(cimg).transpose([1, 0])\n",
    "\n",
    "    def __getitem__(self, idx):\n",
    "        image = self.images[idx]\n",
    "        label = self.labels[idx]\n",
    "        \n",
    "        if self.transform:\n",
    "            image = self.transform(image)\n",
    "\n",
    "        if self.augment:\n",
    "            image = self.augment(image)\n",
    "\n",
    "        if self.target_transform:\n",
    "            label = self.target_transform(label)\n",
    "\n",
    "        return image, label"
   ]
  },
  {
   "cell_type": "code",
   "execution_count": 4,
   "id": "a39fa862-c142-4b1f-b68a-6af4e1eff210",
   "metadata": {},
   "outputs": [],
   "source": [
    "transform = None\n",
    "augment = None\n",
    "bsize = 128\n",
    "trainds = ImgDataset(train_img[0:40000], train_labels[0:40000], transform, augment)\n",
    "traindl = DataLoader(trainds, batch_size=bsize, shuffle=True, num_workers=0, generator=cudagen)\n",
    "valds = ImgDataset(train_img[40001:50000], train_labels[40001:50000], transform, None)\n",
    "valdl = DataLoader(valds, batch_size=bsize, shuffle=False, num_workers=0, generator=cudagen)\n",
    "testds = ImgDataset(test_img, test_img, transform, None)\n",
    "testds = DataLoader(testds, batch_size=bsize, shuffle=False, num_workers=0, generator=cudagen)"
   ]
  },
  {
   "cell_type": "code",
   "execution_count": 5,
   "id": "1197e9a5-8106-4a1e-9cc2-ac78b6325a6a",
   "metadata": {},
   "outputs": [
    {
     "name": "stderr",
     "output_type": "stream",
     "text": [
      "Some weights of DeiTForImageClassification were not initialized from the model checkpoint at facebook/deit-tiny-distilled-patch16-224 and are newly initialized: ['classifier.bias', 'classifier.weight']\n",
      "You should probably TRAIN this model on a down-stream task to be able to use it for predictions and inference.\n"
     ]
    }
   ],
   "source": [
    "def getVit():\n",
    "    from transformers import ViTForImageClassification\n",
    "    from transformers import ViTImageProcessor\n",
    "    model = ViTForImageClassification.from_pretrained('google/vit-base-patch16-224')\n",
    "    model.to(device)\n",
    "    processor = ViTImageProcessor.from_pretrained('google/vit-base-patch16-224')\n",
    "    for param in model.parameters():\n",
    "        param.requires_grad = False\n",
    "    model = nn.Sequential(*list(model.children())[:-1], nn.Linear(768, 2))\n",
    "    return model, processor\n",
    "    \n",
    "def getDeit():\n",
    "    from transformers import DeiTForImageClassification\n",
    "    from transformers import DeiTImageProcessor\n",
    "    model = DeiTForImageClassification.from_pretrained('facebook/deit-tiny-distilled-patch16-224', attn_implementation='sdpa', torch_dtype=torch.float16, num_labels=10)\n",
    "    model.to(device)\n",
    "    processor = DeiTImageProcessor.from_pretrained('facebook/deit-tiny-distilled-patch16-224')\n",
    "    # model = nn.Sequential(*list(model.children())[:-1])\n",
    "    for param in list(model.parameters())[:-2]:\n",
    "        param.requires_grad = False\n",
    "    # for param in model.parameters():\n",
    "        # print(param.requires_grad)\n",
    "    # model = nn.Sequential(*list(model.children())[:-1], nn.Linear(192, 10))\n",
    "    return model, processor\n",
    "\n",
    "model, processor = getDeit()"
   ]
  },
  {
   "cell_type": "code",
   "execution_count": 6,
   "id": "99e3656e-14d8-4e4f-95df-71fdf1fb730f",
   "metadata": {},
   "outputs": [
    {
     "name": "stdout",
     "output_type": "stream",
     "text": [
      "5524800\n"
     ]
    },
    {
     "data": {
      "text/plain": [
       "1930"
      ]
     },
     "execution_count": 6,
     "metadata": {},
     "output_type": "execute_result"
    }
   ],
   "source": [
    "print(sum(p.numel() for p in model.parameters() if not p.requires_grad))\n",
    "sum(p.numel() for p in model.parameters() if p.requires_grad)"
   ]
  },
  {
   "cell_type": "code",
   "execution_count": 15,
   "id": "3765090f-1ec7-4e43-938c-15f604f293f0",
   "metadata": {},
   "outputs": [
    {
     "data": {
      "image/png": "[encoded data removed]",
      "text/plain": [
       "<Figure size 640x480 with 1 Axes>"
      ]
     },
     "metadata": {},
     "output_type": "display_data"
    }
   ],
   "source": [
    "def getstats(outputs, labels):\n",
    "    res = np.zeros((10, 10), dtype=np.int32)\n",
    "    c = 0\n",
    "    for i in range(len(outputs)):\n",
    "        co = torch.argmax(outputs[i])\n",
    "        cl = labels[i]\n",
    "        res[co][cl] += 1\n",
    "        if co == cl:\n",
    "            c += 1\n",
    "    return (res, c)\n",
    "\n",
    "fig,ax = plt.subplots(1,1)\n",
    "def updateplt(stats):\n",
    "    cax = ax.matshow(stats)\n",
    "    fig.canvas.draw()\n",
    "    plt.show()"
   ]
  },
  {
   "cell_type": "code",
   "execution_count": 16,
   "id": "8e412d0d-45c2-42c4-bfed-eea9a077a5e4",
   "metadata": {},
   "outputs": [],
   "source": [
    "def runEpoch(ds, net, optimizer=None, criterion=None):\n",
    "    stats = np.zeros((10, 10), dtype=np.int32)\n",
    "    a = iter(ds)\n",
    "    bar = tqdm(range(len(ds)))\n",
    "    ct = 0\n",
    "    sst = 0\n",
    "\n",
    "    for citer in bar:\n",
    "        inputs, labels = next(a)\n",
    "        preprocessed = processor(images=inputs, return_tensors='pt').to(device).pixel_values\n",
    "        if optimizer != None:\n",
    "            optimizer.zero_grad()\n",
    "        outputs = net(preprocessed).logits\n",
    "        st = getstats(outputs, labels)\n",
    "        stats += st[0]\n",
    "        sst += st[1]\n",
    "        ct += len(inputs)\n",
    "        if criterion != None:\n",
    "            loss = criterion(outputs, labels)\n",
    "            loss.backward()\n",
    "        if optimizer != None:\n",
    "            optimizer.step()\n",
    "        bar.set_description(f'Training acc: {sst / ct:.2f} {sst} {ct}')\n",
    "        # print(f'{citer} - ', end='\\r')\n",
    "        updateplt(stats)"
   ]
  },
  {
   "cell_type": "code",
   "execution_count": 17,
   "id": "dd9ebb49-823a-4fef-b872-e521c21a9221",
   "metadata": {},
   "outputs": [
    {
     "name": "stdout",
     "output_type": "stream",
     "text": [
      "New epoch: 0\n"
     ]
    },
    {
     "data": {
      "application/vnd.jupyter.widget-view+json": {
       "model_id": "935a204664e642b2a37d53adb1a6c2a4",
       "version_major": 2,
       "version_minor": 0
      },
      "text/plain": [
       "  0%|          | 0/313 [00:00<?, ?it/s]"
      ]
     },
     "metadata": {},
     "output_type": "display_data"
    },
    {
     "ename": "TypeError",
     "evalue": "can't convert cuda:0 device type tensor to numpy. Use Tensor.cpu() to copy the tensor to host memory first.",
     "output_type": "error",
     "traceback": [
      "\u001b[0;31m---------------------------------------------------------------------------\u001b[0m",
      "\u001b[0;31mTypeError\u001b[0m                                 Traceback (most recent call last)",
      "Cell \u001b[0;32mIn[17], line 12\u001b[0m\n\u001b[1;32m     10\u001b[0m \u001b[38;5;28;01mfor\u001b[39;00m epoch \u001b[38;5;129;01min\u001b[39;00m \u001b[38;5;28mrange\u001b[39m(epochs):\n\u001b[1;32m     11\u001b[0m     \u001b[38;5;28mprint\u001b[39m(\u001b[38;5;124mf\u001b[39m\u001b[38;5;124m'\u001b[39m\u001b[38;5;124mNew epoch: \u001b[39m\u001b[38;5;132;01m{\u001b[39;00mepoch\u001b[38;5;132;01m}\u001b[39;00m\u001b[38;5;124m'\u001b[39m)\n\u001b[0;32m---> 12\u001b[0m     \u001b[43mrunEpoch\u001b[49m\u001b[43m(\u001b[49m\u001b[43mtraindl\u001b[49m\u001b[43m,\u001b[49m\u001b[43m \u001b[49m\u001b[43mmodel\u001b[49m\u001b[43m,\u001b[49m\u001b[43m \u001b[49m\u001b[43moptimizer\u001b[49m\u001b[43m,\u001b[49m\u001b[43m \u001b[49m\u001b[43mcriterion\u001b[49m\u001b[43m)\u001b[49m\n\u001b[1;32m     13\u001b[0m     \u001b[38;5;28;01mwith\u001b[39;00m torch\u001b[38;5;241m.\u001b[39mno_grad():\n\u001b[1;32m     14\u001b[0m         runEpoch(valdl, model, \u001b[38;5;28;01mNone\u001b[39;00m, \u001b[38;5;28;01mNone\u001b[39;00m)\n",
      "Cell \u001b[0;32mIn[16], line 14\u001b[0m, in \u001b[0;36mrunEpoch\u001b[0;34m(ds, net, optimizer, criterion)\u001b[0m\n\u001b[1;32m     12\u001b[0m     optimizer\u001b[38;5;241m.\u001b[39mzero_grad()\n\u001b[1;32m     13\u001b[0m outputs \u001b[38;5;241m=\u001b[39m net(preprocessed)\u001b[38;5;241m.\u001b[39mlogits\n\u001b[0;32m---> 14\u001b[0m st \u001b[38;5;241m=\u001b[39m \u001b[43mgetstats\u001b[49m\u001b[43m(\u001b[49m\u001b[43moutputs\u001b[49m\u001b[43m,\u001b[49m\u001b[43m \u001b[49m\u001b[43mlabels\u001b[49m\u001b[43m)\u001b[49m\n\u001b[1;32m     15\u001b[0m stats \u001b[38;5;241m+\u001b[39m\u001b[38;5;241m=\u001b[39m st[\u001b[38;5;241m0\u001b[39m]\n\u001b[1;32m     16\u001b[0m sst \u001b[38;5;241m+\u001b[39m\u001b[38;5;241m=\u001b[39m st[\u001b[38;5;241m1\u001b[39m]\n",
      "Cell \u001b[0;32mIn[15], line 7\u001b[0m, in \u001b[0;36mgetstats\u001b[0;34m(outputs, labels)\u001b[0m\n\u001b[1;32m      5\u001b[0m co \u001b[38;5;241m=\u001b[39m torch\u001b[38;5;241m.\u001b[39margmax(outputs[i])\n\u001b[1;32m      6\u001b[0m cl \u001b[38;5;241m=\u001b[39m labels[i]\n\u001b[0;32m----> 7\u001b[0m \u001b[43mres\u001b[49m\u001b[43m[\u001b[49m\u001b[43mco\u001b[49m\u001b[43m]\u001b[49m\u001b[43m[\u001b[49m\u001b[43mcl\u001b[49m\u001b[43m]\u001b[49m \u001b[38;5;241m+\u001b[39m\u001b[38;5;241m=\u001b[39m \u001b[38;5;241m1\u001b[39m\n\u001b[1;32m      8\u001b[0m \u001b[38;5;28;01mif\u001b[39;00m co \u001b[38;5;241m==\u001b[39m cl:\n\u001b[1;32m      9\u001b[0m     c \u001b[38;5;241m+\u001b[39m\u001b[38;5;241m=\u001b[39m \u001b[38;5;241m1\u001b[39m\n",
      "File \u001b[0;32m/usr/lib/python3.12/site-packages/torch/_tensor.py:1085\u001b[0m, in \u001b[0;36mTensor.__array__\u001b[0;34m(self, dtype)\u001b[0m\n\u001b[1;32m   1083\u001b[0m \u001b[38;5;28;01mdef\u001b[39;00m \u001b[38;5;21m__array__\u001b[39m(\u001b[38;5;28mself\u001b[39m, dtype\u001b[38;5;241m=\u001b[39m\u001b[38;5;28;01mNone\u001b[39;00m):\n\u001b[1;32m   1084\u001b[0m     \u001b[38;5;28;01mif\u001b[39;00m has_torch_function_unary(\u001b[38;5;28mself\u001b[39m):\n\u001b[0;32m-> 1085\u001b[0m         \u001b[38;5;28;01mreturn\u001b[39;00m \u001b[43mhandle_torch_function\u001b[49m\u001b[43m(\u001b[49m\u001b[43mTensor\u001b[49m\u001b[38;5;241;43m.\u001b[39;49m\u001b[43m__array__\u001b[49m\u001b[43m,\u001b[49m\u001b[43m \u001b[49m\u001b[43m(\u001b[49m\u001b[38;5;28;43mself\u001b[39;49m\u001b[43m,\u001b[49m\u001b[43m)\u001b[49m\u001b[43m,\u001b[49m\u001b[43m \u001b[49m\u001b[38;5;28;43mself\u001b[39;49m\u001b[43m,\u001b[49m\u001b[43m \u001b[49m\u001b[43mdtype\u001b[49m\u001b[38;5;241;43m=\u001b[39;49m\u001b[43mdtype\u001b[49m\u001b[43m)\u001b[49m\n\u001b[1;32m   1086\u001b[0m     \u001b[38;5;28;01mif\u001b[39;00m dtype \u001b[38;5;129;01mis\u001b[39;00m \u001b[38;5;28;01mNone\u001b[39;00m:\n\u001b[1;32m   1087\u001b[0m         \u001b[38;5;28;01mreturn\u001b[39;00m \u001b[38;5;28mself\u001b[39m\u001b[38;5;241m.\u001b[39mnumpy()\n",
      "File \u001b[0;32m/usr/lib/python3.12/site-packages/torch/overrides.py:1619\u001b[0m, in \u001b[0;36mhandle_torch_function\u001b[0;34m(public_api, relevant_args, *args, **kwargs)\u001b[0m\n\u001b[1;32m   1615\u001b[0m \u001b[38;5;28;01mif\u001b[39;00m _is_torch_function_mode_enabled():\n\u001b[1;32m   1616\u001b[0m     \u001b[38;5;66;03m# if we're here, the mode must be set to a TorchFunctionStackMode\u001b[39;00m\n\u001b[1;32m   1617\u001b[0m     \u001b[38;5;66;03m# this unsets it and calls directly into TorchFunctionStackMode's torch function\u001b[39;00m\n\u001b[1;32m   1618\u001b[0m     \u001b[38;5;28;01mwith\u001b[39;00m _pop_mode_temporarily() \u001b[38;5;28;01mas\u001b[39;00m mode:\n\u001b[0;32m-> 1619\u001b[0m         result \u001b[38;5;241m=\u001b[39m \u001b[43mmode\u001b[49m\u001b[38;5;241;43m.\u001b[39;49m\u001b[43m__torch_function__\u001b[49m\u001b[43m(\u001b[49m\u001b[43mpublic_api\u001b[49m\u001b[43m,\u001b[49m\u001b[43m \u001b[49m\u001b[43mtypes\u001b[49m\u001b[43m,\u001b[49m\u001b[43m \u001b[49m\u001b[43margs\u001b[49m\u001b[43m,\u001b[49m\u001b[43m \u001b[49m\u001b[43mkwargs\u001b[49m\u001b[43m)\u001b[49m\n\u001b[1;32m   1620\u001b[0m     \u001b[38;5;28;01mif\u001b[39;00m result \u001b[38;5;129;01mis\u001b[39;00m \u001b[38;5;129;01mnot\u001b[39;00m \u001b[38;5;28mNotImplemented\u001b[39m:\n\u001b[1;32m   1621\u001b[0m         \u001b[38;5;28;01mreturn\u001b[39;00m result\n",
      "File \u001b[0;32m/usr/lib/python3.12/site-packages/torch/utils/_device.py:78\u001b[0m, in \u001b[0;36mDeviceContext.__torch_function__\u001b[0;34m(self, func, types, args, kwargs)\u001b[0m\n\u001b[1;32m     76\u001b[0m \u001b[38;5;28;01mif\u001b[39;00m func \u001b[38;5;129;01min\u001b[39;00m _device_constructors() \u001b[38;5;129;01mand\u001b[39;00m kwargs\u001b[38;5;241m.\u001b[39mget(\u001b[38;5;124m'\u001b[39m\u001b[38;5;124mdevice\u001b[39m\u001b[38;5;124m'\u001b[39m) \u001b[38;5;129;01mis\u001b[39;00m \u001b[38;5;28;01mNone\u001b[39;00m:\n\u001b[1;32m     77\u001b[0m     kwargs[\u001b[38;5;124m'\u001b[39m\u001b[38;5;124mdevice\u001b[39m\u001b[38;5;124m'\u001b[39m] \u001b[38;5;241m=\u001b[39m \u001b[38;5;28mself\u001b[39m\u001b[38;5;241m.\u001b[39mdevice\n\u001b[0;32m---> 78\u001b[0m \u001b[38;5;28;01mreturn\u001b[39;00m \u001b[43mfunc\u001b[49m\u001b[43m(\u001b[49m\u001b[38;5;241;43m*\u001b[39;49m\u001b[43margs\u001b[49m\u001b[43m,\u001b[49m\u001b[43m \u001b[49m\u001b[38;5;241;43m*\u001b[39;49m\u001b[38;5;241;43m*\u001b[39;49m\u001b[43mkwargs\u001b[49m\u001b[43m)\u001b[49m\n",
      "File \u001b[0;32m/usr/lib/python3.12/site-packages/torch/_tensor.py:1087\u001b[0m, in \u001b[0;36mTensor.__array__\u001b[0;34m(self, dtype)\u001b[0m\n\u001b[1;32m   1085\u001b[0m     \u001b[38;5;28;01mreturn\u001b[39;00m handle_torch_function(Tensor\u001b[38;5;241m.\u001b[39m__array__, (\u001b[38;5;28mself\u001b[39m,), \u001b[38;5;28mself\u001b[39m, dtype\u001b[38;5;241m=\u001b[39mdtype)\n\u001b[1;32m   1086\u001b[0m \u001b[38;5;28;01mif\u001b[39;00m dtype \u001b[38;5;129;01mis\u001b[39;00m \u001b[38;5;28;01mNone\u001b[39;00m:\n\u001b[0;32m-> 1087\u001b[0m     \u001b[38;5;28;01mreturn\u001b[39;00m \u001b[38;5;28;43mself\u001b[39;49m\u001b[38;5;241;43m.\u001b[39;49m\u001b[43mnumpy\u001b[49m\u001b[43m(\u001b[49m\u001b[43m)\u001b[49m\n\u001b[1;32m   1088\u001b[0m \u001b[38;5;28;01melse\u001b[39;00m:\n\u001b[1;32m   1089\u001b[0m     \u001b[38;5;28;01mreturn\u001b[39;00m \u001b[38;5;28mself\u001b[39m\u001b[38;5;241m.\u001b[39mnumpy()\u001b[38;5;241m.\u001b[39mastype(dtype, copy\u001b[38;5;241m=\u001b[39m\u001b[38;5;28;01mFalse\u001b[39;00m)\n",
      "\u001b[0;31mTypeError\u001b[0m: can't convert cuda:0 device type tensor to numpy. Use Tensor.cpu() to copy the tensor to host memory first."
     ]
    }
   ],
   "source": [
    "from alive_progress import alive_bar\n",
    "from tqdm.notebook import trange, tqdm\n",
    "\n",
    "epochs = 10\n",
    "optimizer = optim.Adam(model.parameters())\n",
    "criterion = nn.CrossEntropyLoss()\n",
    "# torch.manual_seed(42)\n",
    "# cudagen.manual_seed(42)\n",
    "\n",
    "for epoch in range(epochs):\n",
    "    print(f'New epoch: {epoch}')\n",
    "    runEpoch(traindl, model, optimizer, criterion)\n",
    "    with torch.no_grad():\n",
    "        runEpoch(valdl, model, None, None)\n",
    "    torch.save(model.state_dict(), f\"model-{epoch}.pth\")"
   ]
  },
  {
   "cell_type": "code",
   "execution_count": null,
   "id": "57a175f0-34be-4679-a264-e7ffda5f2a45",
   "metadata": {},
   "outputs": [],
   "source": []
  }
 ],
 "metadata": {
  "kernelspec": {
   "display_name": "Python 3 (ipykernel)",
   "language": "python",
   "name": "python3"
  },
  "language_info": {
   "codemirror_mode": {
    "name": "ipython",
    "version": 3
   },
   "file_extension": ".py",
   "mimetype": "text/x-python",
   "name": "python",
   "nbconvert_exporter": "python",
   "pygments_lexer": "ipython3",
   "version": "3.12.3"
  }
 },
 "nbformat": 4,
 "nbformat_minor": 5
}
