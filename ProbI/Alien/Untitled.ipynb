{
 "cells": [
  {
   "cell_type": "code",
   "execution_count": 41,
   "id": "015fc1b8-db66-47cc-97b8-3c8035eece3e",
   "metadata": {},
   "outputs": [],
   "source": [
    "import os\n",
    "import pandas as pd\n",
    "import matplotlib.pyplot as plt\n",
    "import numpy as np\n",
    "import pickle\n",
    "\n",
    "from sklearn.utils.class_weight import compute_class_weight\n",
    "from sklearn.feature_extraction.text import CountVectorizer\n",
    "from sklearn import feature_extraction, linear_model, model_selection, preprocessing\n",
    "from sklearn.naive_bayes import MultinomialNB\n",
    "\n",
    "%matplotlib inline"
   ]
  },
  {
   "cell_type": "code",
   "execution_count": 42,
   "id": "7122094d-f9cc-4737-a6fd-6a2339d42e98",
   "metadata": {},
   "outputs": [],
   "source": [
    "floc = '/home/arch/.datasets/butant/'\n",
    "ttext = pd.read_csv(floc + 'train' + '_samples.txt', delimiter='\\t').to_numpy()[:,1]\n",
    "tlabels = pd.read_csv(floc + 'train' + '_labels.txt', delimiter='\\t').to_numpy()[:,1] - 1\n",
    "vtext = pd.read_csv(floc + 'validation' + '_samples.txt', delimiter='\\t').to_numpy()[:,1]\n",
    "vlabels = pd.read_csv(floc + 'validation' + '_labels.txt', delimiter='\\t').to_numpy()[:,1] - 1"
   ]
  },
  {
   "cell_type": "code",
   "execution_count": 76,
   "id": "c8c2b6b0-d7c0-4dc7-b666-7f4f0d7910e3",
   "metadata": {},
   "outputs": [],
   "source": [
    "def eval(ch, mi, ma):\n",
    "    vec2 = CountVectorizer(analyzer='char' if ch == 1 else 'char_wb', ngram_range=(mi, ma))\n",
    "    tt = vec2.fit_transform(ttext)\n",
    "    vt = vec2.transform(vtext)\n",
    "    clf = MultinomialNB()\n",
    "    clf.fit(tt, tlabels)\n",
    "    sc = clf.score(vt, vlabels)\n",
    "    print(f'{\"char\" if ch == 1 else \"char_wb\"} : ({mi},{ma}) : {sc}')"
   ]
  },
  {
   "cell_type": "code",
   "execution_count": 77,
   "id": "e9d8efa5-150d-4505-a69f-f963ca18c506",
   "metadata": {},
   "outputs": [
    {
     "name": "stdout",
     "output_type": "stream",
     "text": [
      "char_wb : (2,2) : 0.591118223644729\n",
      "char_wb : (2,3) : 0.6619323864772955\n",
      "char_wb : (2,4) : 0.7023404680936187\n",
      "char_wb : (2,5) : 0.7123424684936988\n",
      "char_wb : (3,3) : 0.6795359071814363\n",
      "char_wb : (3,4) : 0.7017403480696139\n",
      "char_wb : (3,5) : 0.70874174834967\n",
      "char_wb : (4,4) : 0.7119423884776955\n",
      "char_wb : (4,5) : 0.70874174834967\n",
      "char_wb : (5,5) : 0.7125425085017003\n",
      "char : (2,2) : 0.592118423684737\n",
      "char : (2,3) : 0.6645329065813163\n",
      "char : (2,4) : 0.7141428285657131\n",
      "char : (2,5) : 0.7327465493098619\n",
      "char : (3,3) : 0.6895379075815163\n",
      "char : (3,4) : 0.719743948789758\n",
      "char : (3,5) : 0.7375475095019004\n",
      "char : (4,4) : 0.7285457091418284\n",
      "char : (4,5) : 0.7395479095819164\n",
      "char : (5,5) : 0.739747949589918\n"
     ]
    }
   ],
   "source": [
    "d"
   ]
  },
  {
   "cell_type": "code",
   "execution_count": null,
   "id": "684b989e-6d10-44e1-be87-f0e9c4074aa8",
   "metadata": {},
   "outputs": [],
   "source": []
  }
 ],
 "metadata": {
  "kernelspec": {
   "display_name": "Python 3 (ipykernel)",
   "language": "python",
   "name": "python3"
  },
  "language_info": {
   "codemirror_mode": {
    "name": "ipython",
    "version": 3
   },
   "file_extension": ".py",
   "mimetype": "text/x-python",
   "name": "python",
   "nbconvert_exporter": "python",
   "pygments_lexer": "ipython3",
   "version": "3.12.3"
  }
 },
 "nbformat": 4,
 "nbformat_minor": 5
}
