{
 "cells": [
  {
   "cell_type": "code",
   "execution_count": 1,
   "id": "93ba33a7-4e75-49ff-a313-7ce00eab7567",
   "metadata": {},
   "outputs": [],
   "source": [
    "from alive_progress import alive_bar\n",
    "\n",
    "import os\n",
    "import pandas as pd\n",
    "import matplotlib.pyplot as plt\n",
    "import numpy as np\n",
    "import pickle\n",
    "\n",
    "from sklearn.utils.class_weight import compute_class_weight\n",
    "\n",
    "import torch\n",
    "import torch.nn as nn\n",
    "import torch.optim as optim\n",
    "import torch.nn.functional as F\n",
    "from torch.utils.data import Dataset\n",
    "from torch.utils.data import DataLoader\n",
    "\n",
    "device = 'cuda'"
   ]
  },
  {
   "cell_type": "code",
   "execution_count": 12,
   "id": "c191e884-f0e8-4d86-8e86-029cd53d10b9",
   "metadata": {},
   "outputs": [],
   "source": [
    "class Treap: # This is not actually a treap\n",
    "    def __init__(self, file):\n",
    "        text = pd.read_csv(file + '_samples.txt', delimiter='\\t').to_numpy()[:,1].flatten()\n",
    "        words = [w for t in text for w in t.split(' ')]\n",
    "        uwords = np.unique(words)\n",
    "        self.converter = {}\n",
    "        for idx, w in enumerate(words):\n",
    "            self.converter[w] = idx\n",
    "\n",
    "    def c(self, w):\n",
    "        if w in self.converter:\n",
    "            return self.converter(w)\n",
    "        else:\n",
    "            print(f'Word {w} not found!')\n",
    "            return len(self.converter + 1)\n",
    "    def cc(self, seq):\n",
    "        s = np.zeros(len(seq))\n",
    "        for idx, e in enumerate(seq):\n",
    "            s[idx] = self.c(e)\n",
    "        return s"
   ]
  },
  {
   "cell_type": "code",
   "execution_count": 13,
   "id": "2bfbbfa4-5622-46b4-a78f-afba860c6e20",
   "metadata": {},
   "outputs": [],
   "source": [
    "class AlientDataset(Dataset):\n",
    "    def __init__(self, floc, treap, eqn=False):\n",
    "        text = pd.read_csv(floc + '_samples.txt', delimiter='\\t').to_numpy()[:,1]\n",
    "        ids = [treap.cc(i) for i in text]\n",
    "        labels = pd.read_csv(floc + '_labels.txt', delimiter='\\t').to_numpy()[:,1]\n",
    "        self.data = np.stack((ids, labels), axis=1)\n",
    "\n",
    "    def __len__(self):\n",
    "        return len(self.data)\n",
    "\n",
    "    def __getitem__(self, idx):\n",
    "        return self.data[idx][0], self.data[idx][1]\n",
    "\n",
    "    def getClass(self, cnum):\n",
    "        idx = np.where(self.data[:,1] == cnum)\n",
    "        return self.data[idx]"
   ]
  },
  {
   "cell_type": "code",
   "execution_count": 14,
   "id": "36dd5efb-3202-4b33-8147-dd33058433c3",
   "metadata": {},
   "outputs": [],
   "source": [
    "class Alienter(nn.Module):\n",
    "    def __init__(self, dembed, dhidden, vocabsize, tagsize):\n",
    "        super(Alienter, self).__init__()\n",
    "        self.dhidden = dhidden\n",
    "        self.word_embeddings = nn.Embedding(vocabsize, dembed)\n",
    "        self.lstm = nn.LSTM(dembed, dhidden)\n",
    "        self.hidden2tag = nn.Linear(dhidden, tagsize)\n",
    "\n",
    "    def forward(self, sentence):\n",
    "        embeds = self.word_embeddings(sentence)\n",
    "        lstm_out, _ = self.lstm(embeds.view(len(sentence), 1, -1))\n",
    "        tag_space = self.hidden2tag(lstm_out.view(len(sentence), -1))\n",
    "        tag_scores = F.log_softmax(tag_space, dim=1)\n",
    "        return tag_scores"
   ]
  },
  {
   "cell_type": "code",
   "execution_count": null,
   "id": "e3552677-bb53-4571-9fcc-41c608c0d342",
   "metadata": {},
   "outputs": [],
   "source": [
    "def compAcc(outputs, labels):\n",
    "    r = np.zeros((3, 3), dtype=np.int32)\n",
    "    for i in len(outputs):\n",
    "        co = outputs[i]\n",
    "        cp = np.argmax(co)\n",
    "        cl = labels[i]\n",
    "        r[cl][cp] += 1"
   ]
  },
  {
   "cell_type": "code",
   "execution_count": null,
   "id": "40f3e779-3b86-444a-9c7f-1a3a3aee6fce",
   "metadata": {},
   "outputs": [],
   "source": [
    "def getStats(s):\n",
    "    return 'NO'\n",
    "    # return f'acc: {acc:.2f} f1: {f1:.2f} {tp} {fp} {tn} {fn}'"
   ]
  },
  {
   "cell_type": "code",
   "execution_count": null,
   "id": "569203e5-4b64-407c-a476-7c8fba3894f8",
   "metadata": {},
   "outputs": [],
   "source": [
    "def train(trainds):\n",
    "    embed_dim = 10\n",
    "    hidden_dim = 10\n",
    "    vocabsize = 10\n",
    "    tagsize = 3\n",
    "    model = Alienter(embed_dim, hidden_dim, vocabsize, tagsize).to(device)\n",
    "\n",
    "    criterion = nn.CrossEntropyLoss(weight=torch.tensor(weights))\n",
    "    optimizer = optim.Adam(net.parameters())\n",
    "\n",
    "    epochs = 10\n",
    "    for ie in range(epochs):\n",
    "        print(f'\\nNew epoch: {epoch}')\n",
    "        def tr(bar=None):\n",
    "            print('Start train')\n",
    "            stats = np.zeros(4, dtype=np.int32)\n",
    "            for i, data in enumerate(traindl, 0):\n",
    "                inputs, labels = data\n",
    "                optimizer.zero_grad()\n",
    "                outputs = model(inputs)\n",
    "                loss = criterion(outputs, labels)\n",
    "                loss.backward()\n",
    "                optimizer.step()\n",
    "\n",
    "                stats = np.add(stats, compAcc(outputs, labels))\n",
    "\n",
    "                if bar != None:\n",
    "                    bar.text(getStats(stats))\n",
    "                    bar()\n",
    "            print(f'Train {getStats(stats)}')"
   ]
  },
  {
   "cell_type": "code",
   "execution_count": 6,
   "id": "97a8ba1e-f4fa-4055-993e-88af8b9d9d94",
   "metadata": {},
   "outputs": [],
   "source": [
    "torch.set_default_device(device)\n",
    "torch.multiprocessing.set_start_method('spawn', force=True)\n",
    "torch.manual_seed(123)\n",
    "np.random.seed(123)"
   ]
  },
  {
   "cell_type": "code",
   "execution_count": 7,
   "id": "bcea3e33-8ec4-4532-be47-6ca30d566ffa",
   "metadata": {},
   "outputs": [],
   "source": [
    "dpath = '/home/arch/.datasets/butant/'\n",
    "treap = Treap(dpath + 'train')"
   ]
  },
  {
   "cell_type": "code",
   "execution_count": null,
   "id": "34c4afb1-4589-4cda-9fa9-6f62f2287a1c",
   "metadata": {},
   "outputs": [],
   "source": []
  },
  {
   "cell_type": "code",
   "execution_count": 15,
   "id": "59771dbc-a2cb-4fcd-8d9e-ecbfb5cd2da9",
   "metadata": {},
   "outputs": [
    {
     "ename": "NameError",
     "evalue": "name 'c' is not defined",
     "output_type": "error",
     "traceback": [
      "\u001b[0;31m---------------------------------------------------------------------------\u001b[0m",
      "\u001b[0;31mNameError\u001b[0m                                 Traceback (most recent call last)",
      "Cell \u001b[0;32mIn[15], line 2\u001b[0m\n\u001b[1;32m      1\u001b[0m bsize \u001b[38;5;241m=\u001b[39m \u001b[38;5;241m64\u001b[39m\n\u001b[0;32m----> 2\u001b[0m trainds \u001b[38;5;241m=\u001b[39m \u001b[43mAlientDataset\u001b[49m\u001b[43m(\u001b[49m\u001b[43mdpath\u001b[49m\u001b[43m \u001b[49m\u001b[38;5;241;43m+\u001b[39;49m\u001b[43m \u001b[49m\u001b[38;5;124;43m'\u001b[39;49m\u001b[38;5;124;43mtrain\u001b[39;49m\u001b[38;5;124;43m'\u001b[39;49m\u001b[43m,\u001b[49m\u001b[43m \u001b[49m\u001b[43mtreap\u001b[49m\u001b[43m)\u001b[49m\n\u001b[1;32m      3\u001b[0m traindl \u001b[38;5;241m=\u001b[39m DataLoader(trainds, batch_size\u001b[38;5;241m=\u001b[39mbsize, shuffle\u001b[38;5;241m=\u001b[39m\u001b[38;5;28;01mTrue\u001b[39;00m, num_workers\u001b[38;5;241m=\u001b[39m\u001b[38;5;241m0\u001b[39m, generator\u001b[38;5;241m=\u001b[39mtorch\u001b[38;5;241m.\u001b[39mGenerator(device\u001b[38;5;241m=\u001b[39mdevice))\n",
      "Cell \u001b[0;32mIn[13], line 4\u001b[0m, in \u001b[0;36mAlientDataset.__init__\u001b[0;34m(self, floc, treap, eqn)\u001b[0m\n\u001b[1;32m      2\u001b[0m \u001b[38;5;28;01mdef\u001b[39;00m \u001b[38;5;21m__init__\u001b[39m(\u001b[38;5;28mself\u001b[39m, floc, treap, eqn\u001b[38;5;241m=\u001b[39m\u001b[38;5;28;01mFalse\u001b[39;00m):\n\u001b[1;32m      3\u001b[0m     text \u001b[38;5;241m=\u001b[39m pd\u001b[38;5;241m.\u001b[39mread_csv(floc \u001b[38;5;241m+\u001b[39m \u001b[38;5;124m'\u001b[39m\u001b[38;5;124m_samples.txt\u001b[39m\u001b[38;5;124m'\u001b[39m, delimiter\u001b[38;5;241m=\u001b[39m\u001b[38;5;124m'\u001b[39m\u001b[38;5;130;01m\\t\u001b[39;00m\u001b[38;5;124m'\u001b[39m)\u001b[38;5;241m.\u001b[39mto_numpy()[:,\u001b[38;5;241m1\u001b[39m]\n\u001b[0;32m----> 4\u001b[0m     ids \u001b[38;5;241m=\u001b[39m [\u001b[43mtreap\u001b[49m\u001b[38;5;241;43m.\u001b[39;49m\u001b[43mcc\u001b[49m\u001b[43m(\u001b[49m\u001b[43mi\u001b[49m\u001b[43m)\u001b[49m \u001b[38;5;28;01mfor\u001b[39;00m i \u001b[38;5;129;01min\u001b[39;00m text]\n\u001b[1;32m      5\u001b[0m     labels \u001b[38;5;241m=\u001b[39m pd\u001b[38;5;241m.\u001b[39mread_csv(floc \u001b[38;5;241m+\u001b[39m \u001b[38;5;124m'\u001b[39m\u001b[38;5;124m_labels.txt\u001b[39m\u001b[38;5;124m'\u001b[39m, delimiter\u001b[38;5;241m=\u001b[39m\u001b[38;5;124m'\u001b[39m\u001b[38;5;130;01m\\t\u001b[39;00m\u001b[38;5;124m'\u001b[39m)\u001b[38;5;241m.\u001b[39mto_numpy()[:,\u001b[38;5;241m1\u001b[39m]\n\u001b[1;32m      6\u001b[0m     \u001b[38;5;28mself\u001b[39m\u001b[38;5;241m.\u001b[39mdata \u001b[38;5;241m=\u001b[39m np\u001b[38;5;241m.\u001b[39mstack((ids, labels), axis\u001b[38;5;241m=\u001b[39m\u001b[38;5;241m1\u001b[39m)\n",
      "Cell \u001b[0;32mIn[2], line 19\u001b[0m, in \u001b[0;36mTreap.cc\u001b[0;34m(self, seq)\u001b[0m\n\u001b[1;32m     17\u001b[0m s \u001b[38;5;241m=\u001b[39m np\u001b[38;5;241m.\u001b[39mzeros(\u001b[38;5;28mlen\u001b[39m(seq))\n\u001b[1;32m     18\u001b[0m \u001b[38;5;28;01mfor\u001b[39;00m idx, e \u001b[38;5;129;01min\u001b[39;00m \u001b[38;5;28menumerate\u001b[39m(seq):\n\u001b[0;32m---> 19\u001b[0m     s[idx] \u001b[38;5;241m=\u001b[39m \u001b[43mc\u001b[49m(e)\n\u001b[1;32m     20\u001b[0m \u001b[38;5;28;01mreturn\u001b[39;00m s\n",
      "\u001b[0;31mNameError\u001b[0m: name 'c' is not defined"
     ]
    }
   ],
   "source": [
    "bsize = 64\n",
    "trainds = AlientDataset(dpath + 'train', treap)\n",
    "traindl = DataLoader(trainds, batch_size=bsize, shuffle=True, num_workers=0, generator=torch.Generator(device=device))"
   ]
  },
  {
   "cell_type": "code",
   "execution_count": null,
   "id": "7a588360-2566-4b14-afa7-3ac9e29f07c9",
   "metadata": {},
   "outputs": [],
   "source": [
    "net = train(trainds)\n",
    "test(net)"
   ]
  }
 ],
 "metadata": {
  "kernelspec": {
   "display_name": "Python 3 (ipykernel)",
   "language": "python",
   "name": "python3"
  },
  "language_info": {
   "codemirror_mode": {
    "name": "ipython",
    "version": 3
   },
   "file_extension": ".py",
   "mimetype": "text/x-python",
   "name": "python",
   "nbconvert_exporter": "python",
   "pygments_lexer": "ipython3",
   "version": "3.12.3"
  }
 },
 "nbformat": 4,
 "nbformat_minor": 5
}
